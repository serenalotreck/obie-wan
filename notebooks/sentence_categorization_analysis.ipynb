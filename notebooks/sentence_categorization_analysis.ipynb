{
 "cells": [
  {
   "cell_type": "markdown",
   "metadata": {},
   "source": [
    "# Sentence categorization analysis\n",
    "In order to improve the heuristic algorithm used to identify candidate relation phrases to embed in `abstract.py`, we need to get a sense of where this algorithm fails. In order to do this, we've added a function that identifies what constituency parse components are at each level of the tree for a given sentence, and kept track of both successes and failures. This way, we can determine how to improve the algorithm based on sentence structure."
   ]
  },
  {
   "cell_type": "code",
   "execution_count": 1,
   "metadata": {},
   "outputs": [],
   "source": [
    "import json\n",
    "import pandas as pd\n",
    "import numpy as np\n",
    "from collections import defaultdict"
   ]
  },
  {
   "cell_type": "markdown",
   "metadata": {},
   "source": [
    "## Reading in data"
   ]
  },
  {
   "cell_type": "code",
   "execution_count": 2,
   "metadata": {},
   "outputs": [],
   "source": [
    "with open('../data/distant_sup_output/all_06Feb2023_skipped_sentence_cats.json') as f:\n",
    "    skipped = json.load(f)\n",
    "with open('../data/distant_sup_output/all_06Feb2023_success_sentence_cats.json') as f:\n",
    "    success = json.load(f)"
   ]
  },
  {
   "cell_type": "markdown",
   "metadata": {},
   "source": [
    "## Preliminary exploration"
   ]
  },
  {
   "cell_type": "markdown",
   "metadata": {},
   "source": [
    "### Basic numbers\n",
    "First, let's take a look at how many from each doc were skipped or successful."
   ]
  },
  {
   "cell_type": "code",
   "execution_count": 3,
   "metadata": {},
   "outputs": [
    {
     "data": {
      "text/html": [
       "<div>\n",
       "<style scoped>\n",
       "    .dataframe tbody tr th:only-of-type {\n",
       "        vertical-align: middle;\n",
       "    }\n",
       "\n",
       "    .dataframe tbody tr th {\n",
       "        vertical-align: top;\n",
       "    }\n",
       "\n",
       "    .dataframe thead th {\n",
       "        text-align: right;\n",
       "    }\n",
       "</style>\n",
       "<table border=\"1\" class=\"dataframe\">\n",
       "  <thead>\n",
       "    <tr style=\"text-align: right;\">\n",
       "      <th></th>\n",
       "      <th>skipped</th>\n",
       "      <th>success</th>\n",
       "    </tr>\n",
       "  </thead>\n",
       "  <tbody>\n",
       "    <tr>\n",
       "      <th>PMID30076223_abstract</th>\n",
       "      <td>3</td>\n",
       "      <td>7</td>\n",
       "    </tr>\n",
       "    <tr>\n",
       "      <th>PMID33863060_abstract</th>\n",
       "      <td>7</td>\n",
       "      <td>10</td>\n",
       "    </tr>\n",
       "    <tr>\n",
       "      <th>PMID7639774_abstract</th>\n",
       "      <td>2</td>\n",
       "      <td>2</td>\n",
       "    </tr>\n",
       "    <tr>\n",
       "      <th>PMID16663587_abstract</th>\n",
       "      <td>2</td>\n",
       "      <td>1</td>\n",
       "    </tr>\n",
       "    <tr>\n",
       "      <th>PMID31140930_abstract</th>\n",
       "      <td>6</td>\n",
       "      <td>9</td>\n",
       "    </tr>\n",
       "  </tbody>\n",
       "</table>\n",
       "</div>"
      ],
      "text/plain": [
       "                       skipped  success\n",
       "PMID30076223_abstract        3        7\n",
       "PMID33863060_abstract        7       10\n",
       "PMID7639774_abstract         2        2\n",
       "PMID16663587_abstract        2        1\n",
       "PMID31140930_abstract        6        9"
      ]
     },
     "execution_count": 3,
     "metadata": {},
     "output_type": "execute_result"
    }
   ],
   "source": [
    "skipped_num = {k: len(v) for k, v in skipped.items()}\n",
    "success_num = {k: len(v) for k, v in success.items()}\n",
    "\n",
    "nums_df = pd.DataFrame({'skipped':pd.Series(skipped_num),'success':pd.Series(success_num)})\n",
    "nums_df.head()"
   ]
  },
  {
   "cell_type": "markdown",
   "metadata": {},
   "source": [
    "Looking at the entire dataframe, it actually looks like we're doing an okay job, with more than half the sentences being categorized in most docs:"
   ]
  },
  {
   "cell_type": "code",
   "execution_count": 4,
   "metadata": {},
   "outputs": [
    {
     "data": {
      "text/plain": [
       "'We are able to get a candidate relation phrase for more than half of the sentences in 43 of 56 docs'"
      ]
     },
     "execution_count": 4,
     "metadata": {},
     "output_type": "execute_result"
    }
   ],
   "source": [
    "f'We are able to get a candidate relation phrase for more than half of the sentences in {nums_df[nums_df[\"success\"] > nums_df[\"skipped\"]].shape[0]} of {nums_df.shape[0]} docs'"
   ]
  },
  {
   "cell_type": "markdown",
   "metadata": {},
   "source": [
    "### Level exploration\n",
    "Now, let's do a little exploring of the constituency parse levels. First, let's just look at how many levels each sentence has, and if that's different for successes vs skips."
   ]
  },
  {
   "cell_type": "code",
   "execution_count": 5,
   "metadata": {},
   "outputs": [],
   "source": [
    "skipped_tree_depths = []\n",
    "for doc_key, sents in skipped.items():\n",
    "    for sent_idx, sent_struct in sents.items():\n",
    "        num_levels = len(sent_struct.keys())\n",
    "        skipped_tree_depths.append(num_levels)\n",
    "        \n",
    "success_tree_depths = []\n",
    "for doc_key, sents in success.items():\n",
    "    for sent_idx, sent_struct in sents.items():\n",
    "        num_levels = len(sent_struct.keys())\n",
    "        success_tree_depths.append(num_levels)"
   ]
  },
  {
   "cell_type": "code",
   "execution_count": 6,
   "metadata": {},
   "outputs": [
    {
     "name": "stdout",
     "output_type": "stream",
     "text": [
      "Summary of level depths for skipped sentences:\n",
      "------------------------------------------------\n",
      "Max depth: 22\n",
      "Min depth: 5\n",
      "Mean depth: 10.58445945945946\n",
      "\n",
      "Summary of level depths for success sentences:\n",
      "------------------------------------------------\n",
      "Max depth: 22\n",
      "Min depth: 5\n",
      "Mean depth: 10.678048780487805\n",
      "\n"
     ]
    }
   ],
   "source": [
    "for group, lens in {'skipped': skipped_tree_depths, 'success': success_tree_depths}.items():\n",
    "    print(f'Summary of level depths for {group} sentences:')\n",
    "    print('------------------------------------------------')\n",
    "    print(f'Max depth: {max(lens)}')\n",
    "    print(f'Min depth: {min(lens)}')\n",
    "    print(f'Mean depth: {np.mean(lens)}')\n",
    "    print()"
   ]
  },
  {
   "cell_type": "markdown",
   "metadata": {},
   "source": [
    "First of all, 22 levels... dang! However, it looks like the difference between succeess and failure isn't a function of the depth of the tree -- it must have to do with some other facet of the tree. What about how many children are on each level?"
   ]
  },
  {
   "cell_type": "code",
   "execution_count": 7,
   "metadata": {},
   "outputs": [],
   "source": [
    "skipped_child_nums = defaultdict(list)\n",
    "for doc_key, doc in skipped.items():\n",
    "    for sent_idx, sent in doc.items():\n",
    "        for level, components in sent.items():\n",
    "            skipped_child_nums[level].append(len(components))\n",
    "\n",
    "success_child_nums = defaultdict(list)\n",
    "for doc_key, doc in success.items():\n",
    "    for sent_idx, sent in doc.items():\n",
    "        for level, components in sent.items():\n",
    "            success_child_nums[level].append(len(components))"
   ]
  },
  {
   "cell_type": "code",
   "execution_count": 8,
   "metadata": {},
   "outputs": [
    {
     "data": {
      "text/html": [
       "<div>\n",
       "<style scoped>\n",
       "    .dataframe tbody tr th:only-of-type {\n",
       "        vertical-align: middle;\n",
       "    }\n",
       "\n",
       "    .dataframe tbody tr th {\n",
       "        vertical-align: top;\n",
       "    }\n",
       "\n",
       "    .dataframe thead th {\n",
       "        text-align: right;\n",
       "    }\n",
       "</style>\n",
       "<table border=\"1\" class=\"dataframe\">\n",
       "  <thead>\n",
       "    <tr style=\"text-align: right;\">\n",
       "      <th></th>\n",
       "      <th>skipped_mean</th>\n",
       "      <th>success_mean</th>\n",
       "      <th>skipped_max</th>\n",
       "      <th>success_max</th>\n",
       "      <th>skipped_min</th>\n",
       "      <th>success_min</th>\n",
       "    </tr>\n",
       "  </thead>\n",
       "  <tbody>\n",
       "    <tr>\n",
       "      <th>0</th>\n",
       "      <td>1.000000</td>\n",
       "      <td>1.000000</td>\n",
       "      <td>1</td>\n",
       "      <td>1</td>\n",
       "      <td>1</td>\n",
       "      <td>1</td>\n",
       "    </tr>\n",
       "    <tr>\n",
       "      <th>1</th>\n",
       "      <td>3.844595</td>\n",
       "      <td>3.634146</td>\n",
       "      <td>7</td>\n",
       "      <td>7</td>\n",
       "      <td>2</td>\n",
       "      <td>2</td>\n",
       "    </tr>\n",
       "    <tr>\n",
       "      <th>2</th>\n",
       "      <td>5.479730</td>\n",
       "      <td>5.275610</td>\n",
       "      <td>13</td>\n",
       "      <td>13</td>\n",
       "      <td>3</td>\n",
       "      <td>3</td>\n",
       "    </tr>\n",
       "    <tr>\n",
       "      <th>3</th>\n",
       "      <td>6.793919</td>\n",
       "      <td>5.948780</td>\n",
       "      <td>18</td>\n",
       "      <td>18</td>\n",
       "      <td>1</td>\n",
       "      <td>1</td>\n",
       "    </tr>\n",
       "    <tr>\n",
       "      <th>4</th>\n",
       "      <td>6.179054</td>\n",
       "      <td>5.724390</td>\n",
       "      <td>20</td>\n",
       "      <td>18</td>\n",
       "      <td>1</td>\n",
       "      <td>1</td>\n",
       "    </tr>\n",
       "  </tbody>\n",
       "</table>\n",
       "</div>"
      ],
      "text/plain": [
       "   skipped_mean  success_mean  skipped_max  success_max  skipped_min  \\\n",
       "0      1.000000      1.000000            1            1            1   \n",
       "1      3.844595      3.634146            7            7            2   \n",
       "2      5.479730      5.275610           13           13            3   \n",
       "3      6.793919      5.948780           18           18            1   \n",
       "4      6.179054      5.724390           20           18            1   \n",
       "\n",
       "   success_min  \n",
       "0            1  \n",
       "1            2  \n",
       "2            3  \n",
       "3            1  \n",
       "4            1  "
      ]
     },
     "execution_count": 8,
     "metadata": {},
     "output_type": "execute_result"
    }
   ],
   "source": [
    "# Collect summary stats into a dataframe\n",
    "skipped_child_means = {k: np.mean(v) for k, v in skipped_child_nums.items()}\n",
    "success_child_means = {k: np.mean(v) for k, v in success_child_nums.items()}\n",
    "skipped_child_max = {k: max(v) for k, v in skipped_child_nums.items()}\n",
    "success_child_max = {k: max(v) for k, v in success_child_nums.items()}\n",
    "skipped_child_min = {k: min(v) for k, v in skipped_child_nums.items()}\n",
    "success_child_min = {k: min(v) for k, v in success_child_nums.items()}\n",
    "\n",
    "child_stats_df = pd.DataFrame({'skipped_mean':pd.Series(skipped_child_means),\n",
    "                               'success_mean':pd.Series(success_child_means),\n",
    "                               'skipped_max':pd.Series(skipped_child_max),\n",
    "                               'success_max':pd.Series(success_child_max),\n",
    "                               'skipped_min':pd.Series(skipped_child_min),\n",
    "                               'success_min':pd.Series(success_child_min)})\n",
    "child_stats_df.head()"
   ]
  },
  {
   "cell_type": "markdown",
   "metadata": {},
   "source": [
    "The summary statistics here don't seem that different either; therefore, it must be the identity of the constituency components that differentiate the two groups."
   ]
  },
  {
   "cell_type": "markdown",
   "metadata": {},
   "source": [
    "## Detailed analysis\n",
    "Now, we need to do the trickier work of figuring out how to meaningfully examine the identities at each level for skipped vs success. We'll start at the topmost levels and work our way down, as the first few levels tend to be relatively sensical, and may help us differentiate the failure modes from success modes."
   ]
  },
  {
   "cell_type": "markdown",
   "metadata": {},
   "source": [
    "### Convert json to df\n",
    "To more easily manipulate the data, let's make a dataframe where the columns are level numbers, the indices are `doc_key_sent_idx`, and the values in the cells are lists of the labels at that level in that sentence of that doc. It would make sense to use a multiindex with the doc key as the outer level, but I think it's easiest to do it this way since I really only want to look at all the sentences, just maintaining the doc keys in case I want them later."
   ]
  },
  {
   "cell_type": "code",
   "execution_count": 9,
   "metadata": {},
   "outputs": [],
   "source": [
    "# Flatten jsons, then make df\n",
    "skipped_flat = {}\n",
    "for doc_key, doc in skipped.items():\n",
    "    for sent_idx, sent in doc.items():\n",
    "        ident = f'{doc_key}_{sent_idx}'\n",
    "        vals = []\n",
    "        for i in range(22):\n",
    "            try:\n",
    "                vals.append(tuple(sent[f'{i}']))\n",
    "            except:\n",
    "                vals.append(tuple([]))\n",
    "        skipped_flat[ident] = vals     \n",
    "skipped_df = pd.DataFrame.from_dict(skipped_flat, columns=[f'{i}' for i in range(22)], orient='index')\n",
    "\n",
    "success_flat = {}\n",
    "for doc_key, doc in success.items():\n",
    "    for sent_idx, sent in doc.items():\n",
    "        ident = f'{doc_key}_{sent_idx}'\n",
    "        vals = []\n",
    "        for i in range(22):\n",
    "            try:\n",
    "                vals.append(tuple(sent[f'{i}']))\n",
    "            except:\n",
    "                vals.append(tuple([]))\n",
    "        success_flat[ident] = vals\n",
    "success_df = pd.DataFrame.from_dict(success_flat, columns=[f'{i}' for i in range(22)], orient='index')"
   ]
  },
  {
   "cell_type": "markdown",
   "metadata": {},
   "source": [
    "### Level 0"
   ]
  },
  {
   "cell_type": "code",
   "execution_count": 10,
   "metadata": {},
   "outputs": [
    {
     "data": {
      "text/plain": [
       "array([('S',), ('SINV',)], dtype=object)"
      ]
     },
     "execution_count": 10,
     "metadata": {},
     "output_type": "execute_result"
    }
   ],
   "source": [
    "success_df['0'].unique()"
   ]
  },
  {
   "cell_type": "code",
   "execution_count": 11,
   "metadata": {},
   "outputs": [
    {
     "data": {
      "text/plain": [
       "array([('S',), ('NP',), ('SINV',)], dtype=object)"
      ]
     },
     "execution_count": 11,
     "metadata": {},
     "output_type": "execute_result"
    }
   ],
   "source": [
    "skipped_df['0'].unique()"
   ]
  },
  {
   "cell_type": "markdown",
   "metadata": {},
   "source": [
    "This is surprising, because I expected there only to be `'S'` in the first level. Interestingly, sentences whose trees begin with `'NP'` are skipped -- but is this just one sentence or is this a pattern?"
   ]
  },
  {
   "cell_type": "code",
   "execution_count": 12,
   "metadata": {},
   "outputs": [
    {
     "data": {
      "text/plain": [
       "(S,)       409\n",
       "(SINV,)      1\n",
       "Name: 0, dtype: int64"
      ]
     },
     "execution_count": 12,
     "metadata": {},
     "output_type": "execute_result"
    }
   ],
   "source": [
    "success_df['0'].value_counts()"
   ]
  },
  {
   "cell_type": "code",
   "execution_count": 13,
   "metadata": {},
   "outputs": [
    {
     "data": {
      "text/plain": [
       "(S,)       283\n",
       "(NP,)       12\n",
       "(SINV,)      1\n",
       "Name: 0, dtype: int64"
      ]
     },
     "execution_count": 13,
     "metadata": {},
     "output_type": "execute_result"
    }
   ],
   "source": [
    "skipped_df['0'].value_counts() "
   ]
  },
  {
   "cell_type": "markdown",
   "metadata": {},
   "source": [
    "It looks like the `'NP'` top level failure is a trend -- let's bookmark that as thet first fix."
   ]
  },
  {
   "cell_type": "markdown",
   "metadata": {},
   "source": [
    "### Level 1\n",
    "What about the next level?"
   ]
  },
  {
   "cell_type": "code",
   "execution_count": 14,
   "metadata": {},
   "outputs": [],
   "source": [
    "succ_types_1 = success_df['1'].value_counts()"
   ]
  },
  {
   "cell_type": "code",
   "execution_count": 15,
   "metadata": {},
   "outputs": [],
   "source": [
    "skip_types_1 = skipped_df['1'].value_counts()"
   ]
  },
  {
   "cell_type": "markdown",
   "metadata": {},
   "source": [
    "First, let's see how many overlap between the two categories. It's likely that even if they overlap, the parts of the tree below this level are different between the two groups to explain why some were skipped and some weren't -- we'll want to do a more comprehensive analysis of this later on."
   ]
  },
  {
   "cell_type": "code",
   "execution_count": 29,
   "metadata": {},
   "outputs": [
    {
     "name": "stdout",
     "output_type": "stream",
     "text": [
      "There are 24 and 29 patterns in success and skipped, respectively.\n",
      "\n",
      "\n",
      "There are 12 unique patterns in the skipped sentences, which are:\n",
      "--------------------------------------------------------------------\n",
      "{('NP', ':', 'S', ',', 'CC', 'S', '.'), ('S', ',', 'RB', 'S', '.'), ('S', ',', 'CC', 'S', '.'), ('PP', ',', 'NP', ':', 'S', '.'), ('NP', ':', 'S', '.'), ('NP', 'PP', '.'), ('S', 'CC', 'S', '.'), ('PP', ',', 'S', ',', 'CC', 'S', '.'), ('S', 'CC', ',', 'S', '.'), ('SBAR', ',', 'SBAR', ',', 'CC', 'SBAR', '.'), ('ADVP', ',', 'S', ',', 'CC', 'S', '.'), ('S', ':', 'S', '.')}\n",
      "\n",
      "\n",
      "There are 7 unique patterns in the success sentences, which are:\n",
      "--------------------------------------------------------------------\n",
      "{(':', 'S', ',', 'NP', 'VP', '.'), ('ADVP', 'NP', 'VP', '.'), ('ADVP', ',', 'ADJP', ',', 'NP', 'VP', '.'), ('SBAR', ',', 'SBAR', 'VP', '.'), ('ADVP', ',', 'NP', 'ADVP', 'VP', '.'), ('ADVP', ',', 'SBAR', 'VP', '.'), ('-RRB-', 'ADVP', ',', 'NP', 'VP', '.')}\n"
     ]
    }
   ],
   "source": [
    "print(f'There are {len(succ_types_1)} and {len(skip_types_1)} patterns in '\n",
    "     'success and skipped, respectively.\\n\\n')\n",
    "succ_diff = set(succ_types_1.index).difference(set(skip_types_1.index))\n",
    "skip_diff = set(skip_types_1.index).difference(set(succ_types_1.index))\n",
    "print(f'There are {len(skip_diff)} unique patterns in the skipped sentences, which are:')\n",
    "print('--------------------------------------------------------------------')\n",
    "print(skip_diff)\n",
    "print(f'\\n\\nThere are {len(succ_diff)} unique patterns in the success sentences, which are:')\n",
    "print('--------------------------------------------------------------------')\n",
    "print(succ_diff)"
   ]
  },
  {
   "cell_type": "markdown",
   "metadata": {},
   "source": [
    "Even on just the second level, this is starting to get visually/manually overwhelming; we need a better way to assess the differences between success and failure modes."
   ]
  },
  {
   "cell_type": "code",
   "execution_count": null,
   "metadata": {},
   "outputs": [],
   "source": []
  }
 ],
 "metadata": {
  "kernelspec": {
   "display_name": "obiewan",
   "language": "python",
   "name": "obiewan"
  },
  "language_info": {
   "codemirror_mode": {
    "name": "ipython",
    "version": 3
   },
   "file_extension": ".py",
   "mimetype": "text/x-python",
   "name": "python",
   "nbconvert_exporter": "python",
   "pygments_lexer": "ipython3",
   "version": "3.6.4"
  }
 },
 "nbformat": 4,
 "nbformat_minor": 2
}
