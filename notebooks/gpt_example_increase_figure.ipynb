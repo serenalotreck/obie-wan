{
 "cells": [
  {
   "cell_type": "markdown",
   "metadata": {},
   "source": [
    "# GPT Example Increase Figure\n",
    "Plots of how adding more examples affects GPT manually-engineered stepwise prompt performance across various datasets."
   ]
  },
  {
   "cell_type": "code",
   "execution_count": 1,
   "metadata": {},
   "outputs": [],
   "source": [
    "import pandas as pd\n",
    "import matplotlib.pyplot as plt\n",
    "import matplotlib.transforms as transforms\n",
    "from matplotlib.lines import Line2D\n",
    "%matplotlib inline\n",
    "from collections import defaultdict\n",
    "from ast import literal_eval"
   ]
  },
  {
   "cell_type": "code",
   "execution_count": 2,
   "metadata": {},
   "outputs": [],
   "source": [
    "# Read in the data\n",
    "perf_files = {\n",
    "    'pick_0_wr': 'pickle_no_examples_pickle_DEV_abstracts_09May2023_gpt-3.5-turbo_sequentrial_preds_pickle_DEV_per_doc_triples_09May2023_with_relation_labels_performance.csv',\n",
    "    'pick_0_wor': 'pickle_no_examples_pickle_DEV_abstracts_09May2023_gpt-3.5-turbo_sequentrial_preds_pickle_DEV_per_doc_triples_09May2023_withOUT_relation_labels_performance.csv',\n",
    "    'pick_2_wr': 'pickle_2_examples_few_shot_pickle_DEV_abstracts_09May2023_gpt-3.5-turbo_sequentrial_preds_pickle_DEV_per_doc_triples_09May2023_with_relation_labels_performance.csv',\n",
    "    'pick_2_wor': 'pickle_2_examples_few_shot_pickle_DEV_abstracts_09May2023_gpt-3.5-turbo_sequentrial_preds_pickle_DEV_per_doc_triples_09May2023_withOUT_relation_labels_performance.csv',\n",
    "    'pick_5_wr': 'pickle_5_examples_few_shot_pickle_DEV_abstracts_09May2023_gpt-3.5-turbo_sequentrial_preds_pickle_DEV_per_doc_triples_09May2023_with_relation_labels_performance.csv',\n",
    "    'pick_5_wor': 'pickle_5_examples_few_shot_pickle_DEV_abstracts_09May2023_gpt-3.5-turbo_sequentrial_preds_pickle_DEV_per_doc_triples_09May2023_withOUT_relation_labels_performance.csv',\n",
    "    'pick_10_wr': 'pickle_10_examples_few_shot_pickle_DEV_abstracts_09May2023_gpt-3.5-turbo_sequentrial_preds_pickle_DEV_per_doc_triples_09May2023_with_relation_labels_performance.csv',\n",
    "    'pick_10_wor': 'pickle_10_examples_few_shot_pickle_DEV_abstracts_09May2023_gpt-3.5-turbo_sequentrial_preds_pickle_DEV_per_doc_triples_09May2023_withOUT_relation_labels_performance.csv'\n",
    "}\n",
    "perf_fullpath = '../data/baselines/all_benchmark_new_eval/pickle_automated_gpt_evals'"
   ]
  },
  {
   "cell_type": "code",
   "execution_count": 3,
   "metadata": {},
   "outputs": [],
   "source": [
    "perf_dfs = {k: pd.read_csv(f'{perf_fullpath}/{v}') for k,v in perf_files.items()}"
   ]
  },
  {
   "cell_type": "code",
   "execution_count": 4,
   "metadata": {},
   "outputs": [
    {
     "data": {
      "text/html": [
       "<div>\n",
       "<style scoped>\n",
       "    .dataframe tbody tr th:only-of-type {\n",
       "        vertical-align: middle;\n",
       "    }\n",
       "\n",
       "    .dataframe tbody tr th {\n",
       "        vertical-align: top;\n",
       "    }\n",
       "\n",
       "    .dataframe thead th {\n",
       "        text-align: right;\n",
       "    }\n",
       "</style>\n",
       "<table border=\"1\" class=\"dataframe\">\n",
       "  <thead>\n",
       "    <tr style=\"text-align: right;\">\n",
       "      <th></th>\n",
       "      <th>precision</th>\n",
       "      <th>precision_CI</th>\n",
       "      <th>recall</th>\n",
       "      <th>recall_CI</th>\n",
       "      <th>F1</th>\n",
       "      <th>F1_CI</th>\n",
       "    </tr>\n",
       "  </thead>\n",
       "  <tbody>\n",
       "    <tr>\n",
       "      <th>0</th>\n",
       "      <td>0.026639</td>\n",
       "      <td>(0.007903699537557804, 0.04231618524707567)</td>\n",
       "      <td>0.064524</td>\n",
       "      <td>(0.019618055555555555, 0.1111111111111111)</td>\n",
       "      <td>0.037445</td>\n",
       "      <td>(0.011525812238389475, 0.06138932496075353)</td>\n",
       "    </tr>\n",
       "  </tbody>\n",
       "</table>\n",
       "</div>"
      ],
      "text/plain": [
       "   precision                                 precision_CI    recall  \\\n",
       "0   0.026639  (0.007903699537557804, 0.04231618524707567)  0.064524   \n",
       "\n",
       "                                    recall_CI        F1  \\\n",
       "0  (0.019618055555555555, 0.1111111111111111)  0.037445   \n",
       "\n",
       "                                         F1_CI  \n",
       "0  (0.011525812238389475, 0.06138932496075353)  "
      ]
     },
     "execution_count": 4,
     "metadata": {},
     "output_type": "execute_result"
    }
   ],
   "source": [
    "perf_dfs['pick_5_wr']"
   ]
  },
  {
   "cell_type": "code",
   "execution_count": 5,
   "metadata": {},
   "outputs": [
    {
     "data": {
      "text/html": [
       "<div>\n",
       "<style scoped>\n",
       "    .dataframe tbody tr th:only-of-type {\n",
       "        vertical-align: middle;\n",
       "    }\n",
       "\n",
       "    .dataframe tbody tr th {\n",
       "        vertical-align: top;\n",
       "    }\n",
       "\n",
       "    .dataframe thead th {\n",
       "        text-align: right;\n",
       "    }\n",
       "</style>\n",
       "<table border=\"1\" class=\"dataframe\">\n",
       "  <thead>\n",
       "    <tr style=\"text-align: right;\">\n",
       "      <th></th>\n",
       "      <th>precision</th>\n",
       "      <th>precision_CI</th>\n",
       "      <th>recall</th>\n",
       "      <th>recall_CI</th>\n",
       "      <th>F1</th>\n",
       "      <th>F1_CI</th>\n",
       "    </tr>\n",
       "  </thead>\n",
       "  <tbody>\n",
       "    <tr>\n",
       "      <th>0</th>\n",
       "      <td>0.024464</td>\n",
       "      <td>(0.00638730093915884, 0.0413522371045882)</td>\n",
       "      <td>0.067557</td>\n",
       "      <td>(0.019599537928378902, 0.1278532608695651)</td>\n",
       "      <td>0.035611</td>\n",
       "      <td>(0.009919402543626145, 0.05959946792787464)</td>\n",
       "    </tr>\n",
       "  </tbody>\n",
       "</table>\n",
       "</div>"
      ],
      "text/plain": [
       "   precision                               precision_CI    recall  \\\n",
       "0   0.024464  (0.00638730093915884, 0.0413522371045882)  0.067557   \n",
       "\n",
       "                                    recall_CI        F1  \\\n",
       "0  (0.019599537928378902, 0.1278532608695651)  0.035611   \n",
       "\n",
       "                                         F1_CI  \n",
       "0  (0.009919402543626145, 0.05959946792787464)  "
      ]
     },
     "execution_count": 5,
     "metadata": {},
     "output_type": "execute_result"
    }
   ],
   "source": [
    "perf_dfs['pick_10_wr']"
   ]
  },
  {
   "cell_type": "code",
   "execution_count": 6,
   "metadata": {},
   "outputs": [],
   "source": [
    "# Create combined performance df\n",
    "perf_dict = defaultdict(list)\n",
    "for name, df in perf_dfs.items():\n",
    "    perf_dict['name'].append(name)\n",
    "    perf_dict['F1'].append(df.loc[0, 'F1'])\n",
    "    perf_dict['F1_CI'].append(df.loc[0, 'F1_CI'])\n",
    "perfs_to_plot = pd.DataFrame.from_dict(perf_dict)"
   ]
  },
  {
   "cell_type": "code",
   "execution_count": 7,
   "metadata": {},
   "outputs": [],
   "source": [
    "# Cast the CI column to two, one upper bound and one lower bound\n",
    "tuple_col = perfs_to_plot['F1_CI'].apply(lambda x: literal_eval(x))\n",
    "lower_bound = [t[0] for t in tuple_col]\n",
    "upper_bound = [t[1] for t in tuple_col]\n",
    "perfs_to_plot['lower_bound'] = lower_bound\n",
    "perfs_to_plot['upper_bound'] = upper_bound"
   ]
  },
  {
   "cell_type": "code",
   "execution_count": 8,
   "metadata": {},
   "outputs": [],
   "source": [
    "# Create a common name for the X-axis\n",
    "perfs_to_plot['common_name'] = perfs_to_plot['name'].str.split('_').str[1:2].str.join('_')"
   ]
  },
  {
   "cell_type": "code",
   "execution_count": 9,
   "metadata": {},
   "outputs": [],
   "source": [
    "# Add full dataset name\n",
    "full_names = {'pick': 'PICKLE',\n",
    "             'cdr': 'CDR',\n",
    "             'bioinfer': 'BioInfer',\n",
    "             'scierc': 'SciERC'}\n",
    "perfs_to_plot['full_dset_name'] = [full_names[s.split('_')[0]] for s in perfs_to_plot['name']]"
   ]
  },
  {
   "cell_type": "code",
   "execution_count": 10,
   "metadata": {
    "scrolled": false
   },
   "outputs": [
    {
     "data": {
      "text/html": [
       "<div>\n",
       "<style scoped>\n",
       "    .dataframe tbody tr th:only-of-type {\n",
       "        vertical-align: middle;\n",
       "    }\n",
       "\n",
       "    .dataframe tbody tr th {\n",
       "        vertical-align: top;\n",
       "    }\n",
       "\n",
       "    .dataframe thead th {\n",
       "        text-align: right;\n",
       "    }\n",
       "</style>\n",
       "<table border=\"1\" class=\"dataframe\">\n",
       "  <thead>\n",
       "    <tr style=\"text-align: right;\">\n",
       "      <th></th>\n",
       "      <th>name</th>\n",
       "      <th>F1</th>\n",
       "      <th>F1_CI</th>\n",
       "      <th>lower_bound</th>\n",
       "      <th>upper_bound</th>\n",
       "      <th>common_name</th>\n",
       "      <th>full_dset_name</th>\n",
       "    </tr>\n",
       "  </thead>\n",
       "  <tbody>\n",
       "    <tr>\n",
       "      <th>0</th>\n",
       "      <td>pick_0_wr</td>\n",
       "      <td>0.000000</td>\n",
       "      <td>(0.0, 0.0)</td>\n",
       "      <td>0.000000</td>\n",
       "      <td>0.000000</td>\n",
       "      <td>0</td>\n",
       "      <td>PICKLE</td>\n",
       "    </tr>\n",
       "    <tr>\n",
       "      <th>1</th>\n",
       "      <td>pick_0_wor</td>\n",
       "      <td>0.012167</td>\n",
       "      <td>(0.0, 0.025)</td>\n",
       "      <td>0.000000</td>\n",
       "      <td>0.025000</td>\n",
       "      <td>0</td>\n",
       "      <td>PICKLE</td>\n",
       "    </tr>\n",
       "    <tr>\n",
       "      <th>2</th>\n",
       "      <td>pick_2_wr</td>\n",
       "      <td>0.019428</td>\n",
       "      <td>(0.0061139169472502804, 0.03321108183962669)</td>\n",
       "      <td>0.006114</td>\n",
       "      <td>0.033211</td>\n",
       "      <td>2</td>\n",
       "      <td>PICKLE</td>\n",
       "    </tr>\n",
       "    <tr>\n",
       "      <th>3</th>\n",
       "      <td>pick_2_wor</td>\n",
       "      <td>0.039470</td>\n",
       "      <td>(0.019455759757483898, 0.05780872393113942)</td>\n",
       "      <td>0.019456</td>\n",
       "      <td>0.057809</td>\n",
       "      <td>2</td>\n",
       "      <td>PICKLE</td>\n",
       "    </tr>\n",
       "    <tr>\n",
       "      <th>4</th>\n",
       "      <td>pick_5_wr</td>\n",
       "      <td>0.037445</td>\n",
       "      <td>(0.011525812238389475, 0.06138932496075353)</td>\n",
       "      <td>0.011526</td>\n",
       "      <td>0.061389</td>\n",
       "      <td>5</td>\n",
       "      <td>PICKLE</td>\n",
       "    </tr>\n",
       "    <tr>\n",
       "      <th>5</th>\n",
       "      <td>pick_5_wor</td>\n",
       "      <td>0.081328</td>\n",
       "      <td>(0.04266128114688815, 0.11764705882352941)</td>\n",
       "      <td>0.042661</td>\n",
       "      <td>0.117647</td>\n",
       "      <td>5</td>\n",
       "      <td>PICKLE</td>\n",
       "    </tr>\n",
       "    <tr>\n",
       "      <th>6</th>\n",
       "      <td>pick_10_wr</td>\n",
       "      <td>0.035611</td>\n",
       "      <td>(0.009919402543626145, 0.05959946792787464)</td>\n",
       "      <td>0.009919</td>\n",
       "      <td>0.059599</td>\n",
       "      <td>10</td>\n",
       "      <td>PICKLE</td>\n",
       "    </tr>\n",
       "    <tr>\n",
       "      <th>7</th>\n",
       "      <td>pick_10_wor</td>\n",
       "      <td>0.066776</td>\n",
       "      <td>(0.031237113402061856, 0.09950248756218905)</td>\n",
       "      <td>0.031237</td>\n",
       "      <td>0.099502</td>\n",
       "      <td>10</td>\n",
       "      <td>PICKLE</td>\n",
       "    </tr>\n",
       "  </tbody>\n",
       "</table>\n",
       "</div>"
      ],
      "text/plain": [
       "          name        F1                                         F1_CI  \\\n",
       "0    pick_0_wr  0.000000                                    (0.0, 0.0)   \n",
       "1   pick_0_wor  0.012167                                  (0.0, 0.025)   \n",
       "2    pick_2_wr  0.019428  (0.0061139169472502804, 0.03321108183962669)   \n",
       "3   pick_2_wor  0.039470   (0.019455759757483898, 0.05780872393113942)   \n",
       "4    pick_5_wr  0.037445   (0.011525812238389475, 0.06138932496075353)   \n",
       "5   pick_5_wor  0.081328    (0.04266128114688815, 0.11764705882352941)   \n",
       "6   pick_10_wr  0.035611   (0.009919402543626145, 0.05959946792787464)   \n",
       "7  pick_10_wor  0.066776   (0.031237113402061856, 0.09950248756218905)   \n",
       "\n",
       "   lower_bound  upper_bound common_name full_dset_name  \n",
       "0     0.000000     0.000000           0         PICKLE  \n",
       "1     0.000000     0.025000           0         PICKLE  \n",
       "2     0.006114     0.033211           2         PICKLE  \n",
       "3     0.019456     0.057809           2         PICKLE  \n",
       "4     0.011526     0.061389           5         PICKLE  \n",
       "5     0.042661     0.117647           5         PICKLE  \n",
       "6     0.009919     0.059599          10         PICKLE  \n",
       "7     0.031237     0.099502          10         PICKLE  "
      ]
     },
     "execution_count": 10,
     "metadata": {},
     "output_type": "execute_result"
    }
   ],
   "source": [
    "perfs_to_plot"
   ]
  },
  {
   "cell_type": "code",
   "execution_count": 11,
   "metadata": {},
   "outputs": [],
   "source": [
    "# Arrange data to plot\n",
    "wr_df = perfs_to_plot[perfs_to_plot['name'].str.contains('wr')]\n",
    "wor_df = perfs_to_plot[perfs_to_plot['name'].str.contains('wor')]"
   ]
  },
  {
   "cell_type": "code",
   "execution_count": 12,
   "metadata": {},
   "outputs": [
    {
     "data": {
      "text/plain": [
       "<matplotlib.legend.Legend at 0x2b62ac8a3d68>"
      ]
     },
     "execution_count": 12,
     "metadata": {},
     "output_type": "execute_result"
    },
    {
     "data": {
      "image/png": "[encoded data removed]",
      "text/plain": [
       "<Figure size 432x288 with 1 Axes>"
      ]
     },
     "metadata": {
      "needs_background": "light"
     },
     "output_type": "display_data"
    }
   ],
   "source": [
    "# Plot\n",
    "fig, ax = plt.subplots()\n",
    "\n",
    "offset = lambda p: transforms.ScaledTranslation(p/72.,0, plt.gcf().dpi_scale_trans)\n",
    "trans = plt.gca().transData\n",
    "\n",
    "for dset in perfs_to_plot['full_dset_name'].unique():\n",
    "    dset_subset_wr = wr_df[wr_df['full_dset_name'] == dset]\n",
    "    dset_subset_wor = wor_df[wor_df['full_dset_name'] == dset]\n",
    "    ax.errorbar(dset_subset_wr['common_name'], dset_subset_wr['F1'],\n",
    "                 [dset_subset_wr['lower_bound'],\n",
    "                  dset_subset_wr['upper_bound']],\n",
    "                 marker='x', ms=15, c='green', linestyle='solid',\n",
    "                 transform=trans+offset(-5), label=dset)\n",
    "    ax.errorbar(dset_subset_wor['common_name'], dset_subset_wor['F1'],\n",
    "                 [dset_subset_wor['lower_bound'],\n",
    "                  dset_subset_wor['upper_bound']],\n",
    "                 marker='x', ms=15, c='green', linestyle='dashed',\n",
    "                 transform=trans+offset(5), label=dset)\n",
    "plt.xlabel('Number of examples')\n",
    "plt.ylabel('F1')\n",
    "\n",
    "# Keep only the solid line version of each model/training set combination\n",
    "lines, labels = ax.get_legend_handles_labels()\n",
    "keep_lines, keep_labs = [], []\n",
    "for lin, lab in zip(lines, labels):\n",
    "    if lab not in keep_labs:\n",
    "        keep_labs.append(lab)\n",
    "        keep_lines.append(lin)\n",
    "legend1 = ax.legend(handles=keep_lines, loc='upper left')\n",
    "# Dummy lines with NO entries, just to create the black style legend\n",
    "dummy_lines = []\n",
    "for linestyle, label in zip(['-', '--'],\n",
    "                    ['With relation labels', 'Without relation labels']):\n",
    "    dummy_lines.append(Line2D([0], [0], linestyle=linestyle, color='black',\n",
    "                       linewidth=1, label=label))\n",
    "legend2 = ax.legend(dummy_lines,\n",
    "                    ['With relation labels', 'Without relation labels'])\n",
    "ax.add_artist(legend1)\n",
    "ax.add_artist(legend2)"
   ]
  },
  {
   "cell_type": "code",
   "execution_count": null,
   "metadata": {},
   "outputs": [],
   "source": []
  }
 ],
 "metadata": {
  "kernelspec": {
   "display_name": "Python 3 (ipykernel)",
   "language": "python",
   "name": "python3"
  },
  "language_info": {
   "codemirror_mode": {
    "name": "ipython",
    "version": 3
   },
   "file_extension": ".py",
   "mimetype": "text/x-python",
   "name": "python",
   "nbconvert_exporter": "python",
   "pygments_lexer": "ipython3",
   "version": "3.6.4"
  }
 },
 "nbformat": 4,
 "nbformat_minor": 2
}
